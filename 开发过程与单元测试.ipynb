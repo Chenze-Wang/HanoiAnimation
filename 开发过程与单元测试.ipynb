{
 "cells": [
  {
   "cell_type": "code",
   "execution_count": 77,
   "id": "e6865825",
   "metadata": {},
   "outputs": [],
   "source": [
    "# 之后会用到的，储存杆子状态的栈。因为LIFO的顺序刚好符合Hanoi的规则\n",
    "class Stack():\n",
    "    def __init__(self):\n",
    "        self.s=[]\n",
    "        self.count=0\n",
    "        \n",
    "    def pop(self):\n",
    "        if (self.count==0):\n",
    "            raise Exception('Stack underflow')\n",
    "        self.count-=1\n",
    "        return self.s.pop()\n",
    "    \n",
    "    # 只查看栈顶元素，不弹出\n",
    "    def peek(self):\n",
    "        return self.s[-1]\n",
    "    \n",
    "    def push(self,x):\n",
    "        self.count+=1\n",
    "        self.s.append(x)\n",
    "        \n",
    "    def isEmpty(self):\n",
    "        return self.count==0\n",
    "        \n",
    "    def __str__(self):\n",
    "        return str(self.s)\n",
    "        \n",
    "    def __repr__(self):\n",
    "        return 'Stack '+str(self.s)"
   ]
  },
  {
   "cell_type": "code",
   "execution_count": 2,
   "id": "d533ed5f",
   "metadata": {},
   "outputs": [],
   "source": [
    "s=Stack()"
   ]
  },
  {
   "cell_type": "code",
   "execution_count": 3,
   "id": "b66bec6f",
   "metadata": {},
   "outputs": [],
   "source": [
    "for i in range(10):\n",
    "    s.push(i)"
   ]
  },
  {
   "cell_type": "code",
   "execution_count": 4,
   "id": "5f23b720",
   "metadata": {},
   "outputs": [
    {
     "data": {
      "text/plain": [
       "Stack [0, 1, 2, 3, 4, 5, 6, 7, 8, 9]"
      ]
     },
     "execution_count": 4,
     "metadata": {},
     "output_type": "execute_result"
    }
   ],
   "source": [
    "s"
   ]
  },
  {
   "cell_type": "code",
   "execution_count": 5,
   "id": "6c5be63c",
   "metadata": {},
   "outputs": [
    {
     "data": {
      "text/plain": [
       "9"
      ]
     },
     "execution_count": 5,
     "metadata": {},
     "output_type": "execute_result"
    }
   ],
   "source": [
    "s.pop()"
   ]
  },
  {
   "cell_type": "code",
   "execution_count": 6,
   "id": "70d77ec6",
   "metadata": {},
   "outputs": [
    {
     "data": {
      "text/plain": [
       "Stack [0, 1, 2, 3, 4, 5, 6, 7, 8]"
      ]
     },
     "execution_count": 6,
     "metadata": {},
     "output_type": "execute_result"
    }
   ],
   "source": [
    "s"
   ]
  },
  {
   "cell_type": "code",
   "execution_count": 65,
   "id": "75201543",
   "metadata": {},
   "outputs": [],
   "source": [
    "# Hanoi游戏状态记录类，可以操作，判断非法操作\n",
    "# 若有n个盘子，则用1-n的整数来表示从小到大的盘子\n",
    "class HanoiGame():\n",
    "    def __init__(self,n,abc='abc'):\n",
    "        self.a,self.b,self.c=abc # self.a，self.b，sefl.c并不是杆子的名字，而是起点，中间点，终点，这样可以自定义杆的名称\n",
    "        \n",
    "        # 为三根杆建立三个栈，记录每个的状态\n",
    "        self.rods={}\n",
    "        self.rods[self.a]=Stack()\n",
    "        self.rods[self.b]=Stack()\n",
    "        self.rods[self.c]=Stack()\n",
    "        \n",
    "        # 初始化，将盘子在a杆上\n",
    "        for i in range(n,0,-1):\n",
    "            self.rods[self.a].push('%d'%i)\n",
    "        self.n=n\n",
    "        \n",
    "        # 记录解题步骤\n",
    "        self.solution=[]\n",
    "        \n",
    "            \n",
    "    def operate(self,op):\n",
    "        # 将传进来的操作实施\n",
    "        # 操作的格式为之前的输出格式\n",
    "        rod1,rod2=op\n",
    "        # 若被取走的杆已经没了盘子，那么为非法操作，放出提示后直接返回\n",
    "        if self.rods[rod1].isEmpty():\n",
    "            print('No plates remaining in rod '+rod1)\n",
    "            return (None,None)\n",
    "        # 若还有剩余，则从rod1将最上面一个移动到rod2\n",
    "        operand=self.rods[rod1].pop()\n",
    "        self.rods[rod2].push(operand)\n",
    "        \n",
    "        # 返回记录这一步把哪个盘子从哪移动到了哪\n",
    "        return (operand,op)\n",
    "        \n",
    "        \n",
    "    def Hanoi_recursion(self,n,a,b,c):\n",
    "        if n==1:\n",
    "            self.solution.append(a+c)\n",
    "        else:\n",
    "            self.Hanoi_recursion(n-1,a,c,b)\n",
    "            self.solution.append(a+c)\n",
    "            self.Hanoi_recursion(n-1,b,a,c)\n",
    "    \n",
    "    # 计算解题步骤\n",
    "    def solve(self):\n",
    "        self.solution=[]\n",
    "        self.Hanoi_recursion(self.n,self.a,self.b,self.c)\n",
    "        self.total_steps=len(self.solution)\n",
    "        self.current_step=0\n",
    "    \n",
    "    # 实际操作解题，并输出这一步把哪个盘子从哪里移到了哪里，方便之后做动画时调用\n",
    "    def step(self):\n",
    "        # 若已完全解题，那么再次调用就会输出False，表示已终止\n",
    "        if self.current_step==self.total_steps:\n",
    "            return (),False\n",
    "        current_move=self.operate(self.solution[self.current_step])\n",
    "        self.current_step+=1\n",
    "        return current_move,True\n",
    "        \n",
    "    def __repr__(self):\n",
    "        # 展示当前游戏状态\n",
    "        out='Rod '+self.a+': '+str(self.rods[self.a])+'\\nRod '+self.b+': '+str(self.rods[self.b])+'\\nRod '+self.c+': '+str(self.rods[self.c])\n",
    "        return out\n",
    "    \n",
    "    def __str__(self):\n",
    "        # 这里与__repr__保持相同即可\n",
    "        return self.__repr__()"
   ]
  },
  {
   "cell_type": "code",
   "execution_count": 72,
   "id": "c7040f4c",
   "metadata": {},
   "outputs": [],
   "source": [
    "# 现在用HanoiSolver来解HanoiGame\n",
    "h1=HanoiGame(3)"
   ]
  },
  {
   "cell_type": "code",
   "execution_count": 73,
   "id": "9d226236",
   "metadata": {},
   "outputs": [
    {
     "data": {
      "text/plain": [
       "Rod a: ['3', '2', '1']\n",
       "Rod b: []\n",
       "Rod c: []"
      ]
     },
     "execution_count": 73,
     "metadata": {},
     "output_type": "execute_result"
    }
   ],
   "source": [
    "h1"
   ]
  },
  {
   "cell_type": "code",
   "execution_count": 74,
   "id": "03998d0f",
   "metadata": {},
   "outputs": [],
   "source": [
    "h1.solve()"
   ]
  },
  {
   "cell_type": "code",
   "execution_count": 75,
   "id": "fe59d1c3",
   "metadata": {},
   "outputs": [
    {
     "data": {
      "text/plain": [
       "['ac', 'ab', 'cb', 'ac', 'ba', 'bc', 'ac']"
      ]
     },
     "execution_count": 75,
     "metadata": {},
     "output_type": "execute_result"
    }
   ],
   "source": [
    "h1.solution"
   ]
  },
  {
   "cell_type": "code",
   "execution_count": 76,
   "id": "4a5adb13",
   "metadata": {
    "scrolled": true
   },
   "outputs": [
    {
     "name": "stdout",
     "output_type": "stream",
     "text": [
      "Rod a: ['3', '2', '1']\n",
      "Rod b: []\n",
      "Rod c: []\n",
      "\n",
      "('1', 'ac')\n",
      "Rod a: ['3', '2']\n",
      "Rod b: []\n",
      "Rod c: ['1']\n",
      "\n",
      "('2', 'ab')\n",
      "Rod a: ['3']\n",
      "Rod b: ['2']\n",
      "Rod c: ['1']\n",
      "\n",
      "('1', 'cb')\n",
      "Rod a: ['3']\n",
      "Rod b: ['2', '1']\n",
      "Rod c: []\n",
      "\n",
      "('3', 'ac')\n",
      "Rod a: []\n",
      "Rod b: ['2', '1']\n",
      "Rod c: ['3']\n",
      "\n",
      "('1', 'ba')\n",
      "Rod a: ['1']\n",
      "Rod b: ['2']\n",
      "Rod c: ['3']\n",
      "\n",
      "('2', 'bc')\n",
      "Rod a: ['1']\n",
      "Rod b: []\n",
      "Rod c: ['3', '2']\n",
      "\n",
      "('1', 'ac')\n",
      "Rod a: []\n",
      "Rod b: []\n",
      "Rod c: ['3', '2', '1']\n",
      "\n",
      "()\n",
      "Rod a: []\n",
      "Rod b: []\n",
      "Rod c: ['3', '2', '1']\n"
     ]
    }
   ],
   "source": [
    "# 打印所有步骤\n",
    "print(h1)\n",
    "while True:\n",
    "    operation,running=h1.step()\n",
    "    print()\n",
    "    print(operation)\n",
    "    print(h1)\n",
    "    if not running:\n",
    "        break"
   ]
  },
  {
   "cell_type": "markdown",
   "id": "72b161b2",
   "metadata": {},
   "source": [
    "### 动画需要的基本物体：Plate\n",
    "本动画完全由矩形图案实现，每个盘子是可移动的实体，需要保持它们的位置和尺寸信息"
   ]
  },
  {
   "cell_type": "code",
   "execution_count": 47,
   "id": "b6659b13",
   "metadata": {},
   "outputs": [],
   "source": [
    "import numpy as np # 用numpy数组来保存数据\n",
    "class Plate():\n",
    "    def __init__(self,size=(50,50),pos=(0,0),color=(255,255,255)):\n",
    "        self.size=np.array(size,dtype=np.int32)\n",
    "        self.pos=np.array(pos,dtype=np.int32)\n",
    "        self.color=color\n",
    "    \n",
    "    # 移动位置的函数，dx输入应为numpy数组\n",
    "    def translate(self,dx):\n",
    "        self.pos+=dx\n",
    "    \n",
    "    # 输出pygame画矩形的数据格式，包括颜色和位置尺寸\n",
    "    def rect(self):\n",
    "        return (self.color,np.hstack([self.pos,self.size]))\n",
    "    \n",
    "    # 方便查看信息\n",
    "    def __repr__(self):\n",
    "        return 'Plate '+str(self.size)+' at '+str(self.pos)"
   ]
  },
  {
   "cell_type": "markdown",
   "id": "d4564925",
   "metadata": {},
   "source": [
    "## 动画导演\n",
    "HanoiDirector类是使用针对pygame的导演，用于管理动画中的物品：盘子和底座。\n",
    "\n",
    "导演需要能通过之前得到的solution序列自动生成动画脚本，描述每个盘子的运动过程。\n",
    "\n",
    "HanoiDirector的初始化应包括：画布的尺寸，底座的尺寸信息（基座大小，柱子位置，柱子尺寸和颜色信息），共有几个盘子。物品信息的储存遵循pygame的规则。"
   ]
  },
  {
   "cell_type": "markdown",
   "id": "99b83ad1",
   "metadata": {},
   "source": [
    "### 动画导演需要借助的工具：Translator\n",
    "Translator用于移动Plate的，有些像一个迭代器。\n",
    "\n",
    "一个Translator初始化时应针对一个Plate，指定完成移动的总帧数和移动的总位移。每次调用Translator.step()，就会按规定移动Plate，同时计数，当计数器达到最大，Translator就不再活动。\n",
    "\n",
    "导演把什么时候，哪个Plate开始移动写在剧本里，当需要开始动作，就创建一个Translator，并将其记录在当前正在发生的事件列表中，每帧调用其step()函数。"
   ]
  },
  {
   "cell_type": "code",
   "execution_count": 54,
   "id": "0ec2db9e",
   "metadata": {},
   "outputs": [],
   "source": [
    "class Translator():\n",
    "    def __init__(self,plate,total_frames,x):# x应为整数元组或者int32的numpy数组\n",
    "        self.plate=plate\n",
    "        # 计算每一帧的位移，这里采用线性插值，若除不尽则将余数全加在最后一项\n",
    "        self.dx=np.zeros((total_frames,2),dtype=np.int32)\n",
    "        \n",
    "        dx1=np.array(x,dtype=np.int32)//total_frames\n",
    "        dx2=np.array(x,dtype=np.int32)-dx1*(total_frames-1)\n",
    "        self.dx[0:total_frames-1,::]=dx1\n",
    "        self.dx[total_frames-1,::]=dx2\n",
    "        self.total_frames=total_frames\n",
    "        self.current_frames=0\n",
    "        \n",
    "    def step(self):\n",
    "        # 若已完成整个移动时间，则返回False，表示事件已结束\n",
    "        if self.current_frames==self.total_frames:\n",
    "            return False\n",
    "        self.plate.translate(self.dx[self.current_frames])\n",
    "        self.current_frames+=1\n",
    "        return True"
   ]
  },
  {
   "cell_type": "code",
   "execution_count": 55,
   "id": "cc1ef730",
   "metadata": {},
   "outputs": [
    {
     "name": "stdout",
     "output_type": "stream",
     "text": [
      "初始位置：Plate [50 50] at [0 0]\n",
      "移动事件结束于loop 50\n",
      "Plate [50 50] at [50 50]\n"
     ]
    }
   ],
   "source": [
    "# 单元测试\n",
    "P=Plate()\n",
    "print('初始位置：'+str(P))\n",
    "T=Translator(P,50,(50,50))\n",
    "\n",
    "# 假设这是动画的主循环\n",
    "for i in range(100):\n",
    "    running=T.step()\n",
    "    if not running:\n",
    "        print('移动事件结束于loop %d'%i)\n",
    "        break\n",
    "print(P)"
   ]
  },
  {
   "cell_type": "code",
   "execution_count": 95,
   "id": "e4902197",
   "metadata": {},
   "outputs": [],
   "source": [
    "# 导演初始参数实例\n",
    "params={'Canvas':(800,600),\n",
    "       'Base':(100,480,600,100),\n",
    "       'RodSize':(20,280),\n",
    "       'RodPosX':(190,390,590),\n",
    "       'BaseColor':(255,97,0),\n",
    "       'n':3}"
   ]
  },
  {
   "cell_type": "code",
   "execution_count": 114,
   "id": "a0da608a",
   "metadata": {},
   "outputs": [],
   "source": [
    "class HanoiDirector():\n",
    "    def __init__(self,params):\n",
    "        self.params=params\n",
    "        # 初始化HanoiGame，并求解\n",
    "        self.game=HanoiGame(params['n'],abc='abc')\n",
    "        self.game.solve()\n",
    "        \n",
    "        # 记录每个杆子的水平位置\n",
    "        self.RodPosX={}\n",
    "        self.RodPosX['a']=params['RodPosX'][0]\n",
    "        self.RodPosX['b']=params['RodPosX'][1]\n",
    "        self.RodPosX['c']=params['RodPosX'][2]\n",
    "        \n",
    "        # 按照编号生成n个Plate，其尺寸根据杆子的高度和n综合得出，自动适应\n",
    "        full_height=int(params['RodSize'][1]*0.6)\n",
    "        self.thick=full_height//params['n'] # 单个盘子的厚度\n",
    "        \n",
    "        # 盘子的最大直径不超过杆子间距，这里设置比例为0.9\n",
    "        self.interval=params['RodPosX'][1]-params['RodPosX'][0]\n",
    "        max_diameter=int(self.interval*0.9)\n",
    "        # 盘子的最小直径应超过杆子的直径，这里设置比例为1.5\n",
    "        min_diameter=int(params['RodSize'][0]*1.5)\n",
    "        # 用线性插值初始化每个盘子的直径\n",
    "        diameters=np.linspace(min_diameter,max_diameter,params['n'],endpoint=True,dtype=np.int32)\n",
    "        \n",
    "        # 设定盘子的颜色从纯绿渐变置纯蓝：(0,255,0)->(0,0,255)，这样可以避免和底座撞色\n",
    "        if params['n']==1:\n",
    "            colors=[(0,255,0)]\n",
    "        else:\n",
    "            interpolation=np.linspace(0,255,params['n'],dtype=np.int32)\n",
    "            colors=np.zeros((params['n'],3),dtype=np.int32)\n",
    "            colors[::,1]=interpolation[-1::-1]\n",
    "            colors[::,2]=interpolation\n",
    "        \n",
    "        # 计算每个盘子的位置，先算下面盘子的初始位置\n",
    "        initial_pos={}\n",
    "        initial_pos['%d'%params['n']]=(params['RodPosX'][0]+params['RodSize'][0]//2-diameters[-1]//2,params['Base'][1]-self.thick)\n",
    "        # 算剩余盘子的初始位置\n",
    "        for i in range(params['n']-1,0,-1):\n",
    "            initial_pos['%d'%i]=(params['RodPosX'][0]+params['RodSize'][0]//2-diameters[i-1]//2,initial_pos['%d'%(i+1)][1]-self.thick)\n",
    "        \n",
    "        # 初始化盘子\n",
    "        self.plates={}\n",
    "        for i in range(params['n']):\n",
    "            pName='%d'%(i+1)\n",
    "            self.plates[pName]=Plate(size=(diameters[i],self.thick),pos=initial_pos[pName],color=colors[i])\n",
    "            \n",
    "        # 杆子的rect数据，包括颜色和位置尺寸\n",
    "        self.rod_rects=[]\n",
    "        for i in range(3):\n",
    "            self.rod_rects.append((params['BaseColor'],(params['RodPosX'][i],params['Base'][1]-params['RodSize'][1],*params['RodSize'])))\n",
    "        \n",
    "        # 记录杆子的最高位置，之后会用到\n",
    "        self.rod_top=self.rod_rects[0][1][1]\n",
    "        \n",
    "        # 当前正在进行的事件的列表\n",
    "        self.event_list=[]\n",
    "            \n",
    "    # 绘制函数，用于列出在pygame画布上所有要画的矩形的颜色和位置尺寸参数\n",
    "    def things_to_draw(self):\n",
    "        rect_list=[]\n",
    "        # 先画底座和杆子\n",
    "        rect_list.append((self.params['BaseColor'],self.params['Base']))\n",
    "        rect_list+=self.rod_rects\n",
    "        # 画盘子\n",
    "        for pName in self.plates.keys():\n",
    "            rect_list.append(self.plates[pName].rect())\n",
    "        return rect_list\n",
    "    \n",
    "    # 根据HanoiGame给出的操作生成剧本\n",
    "    def write_script(self):\n",
    "        self.script=[]\n",
    "        while True:\n",
    "            operation,running=self.game.step()\n",
    "            if not running:\n",
    "                break\n",
    "            operand,move=operation            \n",
    "            \n",
    "            # 将一个盘子从一处移动到另一处包含三个阶段：1.上移；2.水平移动；3.下移\n",
    "            # 每个阶段由一个Translator来完成\n",
    "            # 剧本中会出现两种事件，('Tn',frames,x)和('Idle')。前者表示在frames帧内平移盘子'n'，总位移为x；\n",
    "            # 后者表示什么也不做，因为每次只操作一个盘子，总线程需要等待当前操作完成\n",
    "            \n",
    "            # 这里规定每个动作用10帧\n",
    "            \n",
    "            # 上移过程，先计算需要上移多少\n",
    "            up=self.params['RodSize'][1]-self.game.rods[move[0]].count*self.thick\n",
    "            x=(0,-up)\n",
    "            self.script.append(('T'+operand,10,x)) # 记录上移事件\n",
    "            self.script+=[('Idle')]*10 # 等待事件完成\n",
    "            \n",
    "            # 水平移动过程\n",
    "            h=self.RodPosX[move[1]]-self.RodPosX[move[0]]\n",
    "            x=(h,0)\n",
    "            self.script.append(('T'+operand,10,x))\n",
    "            self.script+=[('Idle')]*10\n",
    "            \n",
    "            # 下降过程\n",
    "            down=self.params['Base'][1]-self.game.rods[move[1]].count*self.thick-self.rod_top+self.thick\n",
    "            x=(0,down)\n",
    "            self.script.append(('T'+operand,10,x))\n",
    "            self.script+=[('Idle')]*10\n",
    "        # 记录总帧数\n",
    "        self.total_frames=len(self.script)\n",
    "        self.current_frame=0\n",
    "        \n",
    "    def step(self):\n",
    "        # 若当前已演完，则直接返回\n",
    "        if self.current_frame==self.total_frames:\n",
    "            return\n",
    "        # 先把剧本里的动作加入事件列表，如果当前剧本为'Idle'，则不添加\n",
    "        if self.script[self.current_frame]=='Idle':\n",
    "            pass\n",
    "        else:\n",
    "            # 解析事件\n",
    "            operand,frames,x=self.script[self.current_frame]\n",
    "            operand=operand[1]\n",
    "            # 创建一个Translator，并加入事件列表\n",
    "            t=Translator(self.plates[operand],frames,x)\n",
    "            self.event_list.append(t)\n",
    "            \n",
    "        self.current_frame+=1\n",
    "            \n",
    "        # 将事件列表里的事件推进，同时取出已经完成的事件\n",
    "        new_event_list=[]\n",
    "        for i in range(len(self.event_list)):\n",
    "            running=self.event_list[i].step()\n",
    "            if running:\n",
    "                new_event_list.append(self.event_list[i])\n",
    "        self.event_list=new_event_list"
   ]
  },
  {
   "cell_type": "code",
   "execution_count": 115,
   "id": "c1e0c79b",
   "metadata": {},
   "outputs": [],
   "source": [
    "director=HanoiDirector(params)"
   ]
  },
  {
   "cell_type": "code",
   "execution_count": 116,
   "id": "36e77f13",
   "metadata": {},
   "outputs": [
    {
     "data": {
      "text/plain": [
       "Plate [30 56] at [185 312]"
      ]
     },
     "execution_count": 116,
     "metadata": {},
     "output_type": "execute_result"
    }
   ],
   "source": [
    "director.plates['1']"
   ]
  },
  {
   "cell_type": "code",
   "execution_count": 117,
   "id": "7615265e",
   "metadata": {},
   "outputs": [
    {
     "data": {
      "text/plain": [
       "200"
      ]
     },
     "execution_count": 117,
     "metadata": {},
     "output_type": "execute_result"
    }
   ],
   "source": [
    "director.rod_top"
   ]
  },
  {
   "cell_type": "code",
   "execution_count": 118,
   "id": "9eef05dd",
   "metadata": {},
   "outputs": [
    {
     "data": {
      "text/plain": [
       "56"
      ]
     },
     "execution_count": 118,
     "metadata": {},
     "output_type": "execute_result"
    }
   ],
   "source": [
    "director.thick"
   ]
  },
  {
   "cell_type": "code",
   "execution_count": 119,
   "id": "e2fc010e",
   "metadata": {},
   "outputs": [],
   "source": [
    "director.write_script()"
   ]
  },
  {
   "cell_type": "code",
   "execution_count": 120,
   "id": "6e7be91c",
   "metadata": {},
   "outputs": [
    {
     "data": {
      "text/plain": [
       "[('T1', 10, (0, -168)),\n",
       " 'Idle',\n",
       " 'Idle',\n",
       " 'Idle',\n",
       " 'Idle',\n",
       " 'Idle',\n",
       " 'Idle',\n",
       " 'Idle',\n",
       " 'Idle',\n",
       " 'Idle',\n",
       " 'Idle',\n",
       " ('T1', 10, (400, 0)),\n",
       " 'Idle',\n",
       " 'Idle',\n",
       " 'Idle',\n",
       " 'Idle',\n",
       " 'Idle',\n",
       " 'Idle',\n",
       " 'Idle',\n",
       " 'Idle',\n",
       " 'Idle',\n",
       " 'Idle',\n",
       " ('T1', 10, (0, 280)),\n",
       " 'Idle',\n",
       " 'Idle',\n",
       " 'Idle',\n",
       " 'Idle',\n",
       " 'Idle',\n",
       " 'Idle',\n",
       " 'Idle',\n",
       " 'Idle',\n",
       " 'Idle',\n",
       " 'Idle',\n",
       " ('T2', 10, (0, -224)),\n",
       " 'Idle',\n",
       " 'Idle',\n",
       " 'Idle',\n",
       " 'Idle',\n",
       " 'Idle',\n",
       " 'Idle',\n",
       " 'Idle',\n",
       " 'Idle',\n",
       " 'Idle',\n",
       " 'Idle',\n",
       " ('T2', 10, (200, 0)),\n",
       " 'Idle',\n",
       " 'Idle',\n",
       " 'Idle',\n",
       " 'Idle',\n",
       " 'Idle',\n",
       " 'Idle',\n",
       " 'Idle',\n",
       " 'Idle',\n",
       " 'Idle',\n",
       " 'Idle',\n",
       " ('T2', 10, (0, 280)),\n",
       " 'Idle',\n",
       " 'Idle',\n",
       " 'Idle',\n",
       " 'Idle',\n",
       " 'Idle',\n",
       " 'Idle',\n",
       " 'Idle',\n",
       " 'Idle',\n",
       " 'Idle',\n",
       " 'Idle',\n",
       " ('T1', 10, (0, -168)),\n",
       " 'Idle',\n",
       " 'Idle',\n",
       " 'Idle',\n",
       " 'Idle',\n",
       " 'Idle',\n",
       " 'Idle',\n",
       " 'Idle',\n",
       " 'Idle',\n",
       " 'Idle',\n",
       " 'Idle',\n",
       " ('T1', 10, (-200, 0)),\n",
       " 'Idle',\n",
       " 'Idle',\n",
       " 'Idle',\n",
       " 'Idle',\n",
       " 'Idle',\n",
       " 'Idle',\n",
       " 'Idle',\n",
       " 'Idle',\n",
       " 'Idle',\n",
       " 'Idle',\n",
       " ('T1', 10, (0, 224)),\n",
       " 'Idle',\n",
       " 'Idle',\n",
       " 'Idle',\n",
       " 'Idle',\n",
       " 'Idle',\n",
       " 'Idle',\n",
       " 'Idle',\n",
       " 'Idle',\n",
       " 'Idle',\n",
       " 'Idle',\n",
       " ('T3', 10, (0, -280)),\n",
       " 'Idle',\n",
       " 'Idle',\n",
       " 'Idle',\n",
       " 'Idle',\n",
       " 'Idle',\n",
       " 'Idle',\n",
       " 'Idle',\n",
       " 'Idle',\n",
       " 'Idle',\n",
       " 'Idle',\n",
       " ('T3', 10, (400, 0)),\n",
       " 'Idle',\n",
       " 'Idle',\n",
       " 'Idle',\n",
       " 'Idle',\n",
       " 'Idle',\n",
       " 'Idle',\n",
       " 'Idle',\n",
       " 'Idle',\n",
       " 'Idle',\n",
       " 'Idle',\n",
       " ('T3', 10, (0, 280)),\n",
       " 'Idle',\n",
       " 'Idle',\n",
       " 'Idle',\n",
       " 'Idle',\n",
       " 'Idle',\n",
       " 'Idle',\n",
       " 'Idle',\n",
       " 'Idle',\n",
       " 'Idle',\n",
       " 'Idle',\n",
       " ('T1', 10, (0, -168)),\n",
       " 'Idle',\n",
       " 'Idle',\n",
       " 'Idle',\n",
       " 'Idle',\n",
       " 'Idle',\n",
       " 'Idle',\n",
       " 'Idle',\n",
       " 'Idle',\n",
       " 'Idle',\n",
       " 'Idle',\n",
       " ('T1', 10, (-200, 0)),\n",
       " 'Idle',\n",
       " 'Idle',\n",
       " 'Idle',\n",
       " 'Idle',\n",
       " 'Idle',\n",
       " 'Idle',\n",
       " 'Idle',\n",
       " 'Idle',\n",
       " 'Idle',\n",
       " 'Idle',\n",
       " ('T1', 10, (0, 280)),\n",
       " 'Idle',\n",
       " 'Idle',\n",
       " 'Idle',\n",
       " 'Idle',\n",
       " 'Idle',\n",
       " 'Idle',\n",
       " 'Idle',\n",
       " 'Idle',\n",
       " 'Idle',\n",
       " 'Idle',\n",
       " ('T2', 10, (0, -224)),\n",
       " 'Idle',\n",
       " 'Idle',\n",
       " 'Idle',\n",
       " 'Idle',\n",
       " 'Idle',\n",
       " 'Idle',\n",
       " 'Idle',\n",
       " 'Idle',\n",
       " 'Idle',\n",
       " 'Idle',\n",
       " ('T2', 10, (200, 0)),\n",
       " 'Idle',\n",
       " 'Idle',\n",
       " 'Idle',\n",
       " 'Idle',\n",
       " 'Idle',\n",
       " 'Idle',\n",
       " 'Idle',\n",
       " 'Idle',\n",
       " 'Idle',\n",
       " 'Idle',\n",
       " ('T2', 10, (0, 224)),\n",
       " 'Idle',\n",
       " 'Idle',\n",
       " 'Idle',\n",
       " 'Idle',\n",
       " 'Idle',\n",
       " 'Idle',\n",
       " 'Idle',\n",
       " 'Idle',\n",
       " 'Idle',\n",
       " 'Idle',\n",
       " ('T1', 10, (0, -168)),\n",
       " 'Idle',\n",
       " 'Idle',\n",
       " 'Idle',\n",
       " 'Idle',\n",
       " 'Idle',\n",
       " 'Idle',\n",
       " 'Idle',\n",
       " 'Idle',\n",
       " 'Idle',\n",
       " 'Idle',\n",
       " ('T1', 10, (400, 0)),\n",
       " 'Idle',\n",
       " 'Idle',\n",
       " 'Idle',\n",
       " 'Idle',\n",
       " 'Idle',\n",
       " 'Idle',\n",
       " 'Idle',\n",
       " 'Idle',\n",
       " 'Idle',\n",
       " 'Idle',\n",
       " ('T1', 10, (0, 168)),\n",
       " 'Idle',\n",
       " 'Idle',\n",
       " 'Idle',\n",
       " 'Idle',\n",
       " 'Idle',\n",
       " 'Idle',\n",
       " 'Idle',\n",
       " 'Idle',\n",
       " 'Idle',\n",
       " 'Idle']"
      ]
     },
     "execution_count": 120,
     "metadata": {},
     "output_type": "execute_result"
    }
   ],
   "source": [
    "director.script"
   ]
  },
  {
   "cell_type": "code",
   "execution_count": null,
   "id": "d3722862",
   "metadata": {},
   "outputs": [],
   "source": []
  }
 ],
 "metadata": {
  "kernelspec": {
   "display_name": "Python 3 (ipykernel)",
   "language": "python",
   "name": "python3"
  },
  "language_info": {
   "codemirror_mode": {
    "name": "ipython",
    "version": 3
   },
   "file_extension": ".py",
   "mimetype": "text/x-python",
   "name": "python",
   "nbconvert_exporter": "python",
   "pygments_lexer": "ipython3",
   "version": "3.7.12"
  }
 },
 "nbformat": 4,
 "nbformat_minor": 5
}
